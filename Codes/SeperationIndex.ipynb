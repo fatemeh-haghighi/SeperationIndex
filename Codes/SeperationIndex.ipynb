{
  "nbformat": 4,
  "nbformat_minor": 0,
  "metadata": {
    "colab": {
      "name": "HW_extera_2",
      "provenance": []
    },
    "kernelspec": {
      "name": "python3",
      "display_name": "Python 3"
    }
  },
  "cells": [
    {
      "cell_type": "code",
      "metadata": {
        "id": "L3LiQl5VPSaU",
        "colab_type": "code",
        "outputId": "6578629b-d307-4213-c74f-8a09e507f64e",
        "colab": {
          "base_uri": "https://localhost:8080/",
          "height": 260
        }
      },
      "source": [
        "from tensorflow.python.client import device_lib\n",
        "print(device_lib.list_local_devices())"
      ],
      "execution_count": 0,
      "outputs": [
        {
          "output_type": "stream",
          "text": [
            "[name: \"/device:CPU:0\"\n",
            "device_type: \"CPU\"\n",
            "memory_limit: 268435456\n",
            "locality {\n",
            "}\n",
            "incarnation: 17529932250549843308\n",
            ", name: \"/device:XLA_CPU:0\"\n",
            "device_type: \"XLA_CPU\"\n",
            "memory_limit: 17179869184\n",
            "locality {\n",
            "}\n",
            "incarnation: 5032735333979885895\n",
            "physical_device_desc: \"device: XLA_CPU device\"\n",
            "]\n"
          ],
          "name": "stdout"
        }
      ]
    },
    {
      "cell_type": "code",
      "metadata": {
        "id": "qBNrw2OVPX6Z",
        "colab_type": "code",
        "outputId": "bd47924d-3876-441e-ee38-5586712e3e85",
        "colab": {
          "base_uri": "https://localhost:8080/",
          "height": 34
        }
      },
      "source": [
        "import matplotlib.pyplot as plt\n",
        "import csv\n",
        "import numpy as np\n",
        "import random\n",
        "import cv2\n",
        "from tqdm import tqdm\n",
        "import tensorflow as tf\n",
        "\n",
        "import keras\n",
        "from keras.models import Sequential\n",
        "from keras.layers import Dense, Flatten, Dropout, Conv2D , MaxPooling2D\n",
        "from keras.layers.normalization import BatchNormalization\n",
        "\n",
        "from sklearn.metrics import ConfusionMatrixDisplay as CMD\n",
        "from sklearn.metrics import confusion_matrix\n",
        "from keras import optimizers\n",
        "from keras.preprocessing.image import  ImageDataGenerator as IDG\n",
        "\n",
        "\n",
        "np.random.seed(1234)"
      ],
      "execution_count": 0,
      "outputs": [
        {
          "output_type": "stream",
          "text": [
            "Using TensorFlow backend.\n"
          ],
          "name": "stderr"
        }
      ]
    },
    {
      "cell_type": "code",
      "metadata": {
        "id": "G1bYF_wKPaqS",
        "colab_type": "code",
        "outputId": "66a50bb7-d1d9-49c5-b818-9440bea1d840",
        "colab": {
          "base_uri": "https://localhost:8080/",
          "height": 590
        }
      },
      "source": [
        "!wget \"https://sid.erda.dk/public/archives/daaeac0d7ce1152aea9b61d9f1e19370/GTSRB-Training_fixed.zip\"\n",
        "!unzip -qq GTSRB-Training_fixed.zip\n",
        "!wget \"https://sid.erda.dk/public/archives/daaeac0d7ce1152aea9b61d9f1e19370/GTSRB_Final_Test_GT.zip\"\n",
        "!unzip -qq GTSRB_Final_Test_GT.zip\n",
        "!wget \"https://sid.erda.dk/public/archives/daaeac0d7ce1152aea9b61d9f1e19370/GTSRB_Final_Test_Images.zip\"\n",
        "!unzip -qq GTSRB_Final_Test_Images.zip"
      ],
      "execution_count": 0,
      "outputs": [
        {
          "output_type": "stream",
          "text": [
            "--2020-05-24 09:33:50--  https://sid.erda.dk/public/archives/daaeac0d7ce1152aea9b61d9f1e19370/GTSRB-Training_fixed.zip\n",
            "Resolving sid.erda.dk (sid.erda.dk)... 130.225.104.13\n",
            "Connecting to sid.erda.dk (sid.erda.dk)|130.225.104.13|:443... connected.\n",
            "HTTP request sent, awaiting response... 200 OK\n",
            "Length: 187490228 (179M) [application/zip]\n",
            "Saving to: ‘GTSRB-Training_fixed.zip’\n",
            "\n",
            "GTSRB-Training_fixe 100%[===================>] 178.80M  10.7MB/s    in 19s     \n",
            "\n",
            "2020-05-24 09:34:10 (9.51 MB/s) - ‘GTSRB-Training_fixed.zip’ saved [187490228/187490228]\n",
            "\n",
            "--2020-05-24 09:34:19--  https://sid.erda.dk/public/archives/daaeac0d7ce1152aea9b61d9f1e19370/GTSRB_Final_Test_GT.zip\n",
            "Resolving sid.erda.dk (sid.erda.dk)... 130.225.104.13\n",
            "Connecting to sid.erda.dk (sid.erda.dk)|130.225.104.13|:443... connected.\n",
            "HTTP request sent, awaiting response... 200 OK\n",
            "Length: 99620 (97K) [application/zip]\n",
            "Saving to: ‘GTSRB_Final_Test_GT.zip’\n",
            "\n",
            "GTSRB_Final_Test_GT 100%[===================>]  97.29K   175KB/s    in 0.6s    \n",
            "\n",
            "2020-05-24 09:34:20 (175 KB/s) - ‘GTSRB_Final_Test_GT.zip’ saved [99620/99620]\n",
            "\n",
            "--2020-05-24 09:34:24--  https://sid.erda.dk/public/archives/daaeac0d7ce1152aea9b61d9f1e19370/GTSRB_Final_Test_Images.zip\n",
            "Resolving sid.erda.dk (sid.erda.dk)... 130.225.104.13\n",
            "Connecting to sid.erda.dk (sid.erda.dk)|130.225.104.13|:443... connected.\n",
            "HTTP request sent, awaiting response... 200 OK\n",
            "Length: 88978620 (85M) [application/zip]\n",
            "Saving to: ‘GTSRB_Final_Test_Images.zip’\n",
            "\n",
            "GTSRB_Final_Test_Im 100%[===================>]  84.86M  10.0MB/s    in 10s     \n",
            "\n",
            "2020-05-24 09:34:35 (8.23 MB/s) - ‘GTSRB_Final_Test_Images.zip’ saved [88978620/88978620]\n",
            "\n"
          ],
          "name": "stdout"
        }
      ]
    },
    {
      "cell_type": "code",
      "metadata": {
        "id": "7mtS-UTSPeWh",
        "colab_type": "code",
        "colab": {}
      },
      "source": [
        "def readTrafficSigns(rootpath):\n",
        "    '''Reads traffic sign data for German Traffic Sign Recognition Benchmark.\n",
        "\n",
        "    Arguments: path to the traffic sign data, for example './GTSRB/Training'\n",
        "    Returns:   list of images, list of corresponding labels'''\n",
        "    images = [] # images\n",
        "    labels = [] # corresponding labels\n",
        "    # loop over all 42 classes\n",
        "    for c in range(0,43):\n",
        "        prefix = rootpath + '/' + format(c, '05d') + '/' # subdirectory for class\n",
        "        gtFile = open(prefix + 'GT-'+ format(c, '05d') + '.csv') # annotations file\n",
        "        gtReader = csv.reader(gtFile, delimiter=';') # csv parser for annotations file\n",
        "        next(gtReader) # skip header\n",
        "        # loop over all images in current annotations file\n",
        "        for row in gtReader:\n",
        "            images.append(plt.imread(prefix + row[0])) # the 1th column is the filename\n",
        "            labels.append(row[7]) # the 8th column is the label\n",
        "        gtFile.close()\n",
        "    return images, labels\n",
        "\n",
        "def TSreadTrafficSigns(rootpath):\n",
        "    '''Reads traffic sign data for German Traffic Sign Recognition Benchmark.\n",
        "\n",
        "    Arguments: path to the traffic sign data, for example './GTSRB/Final_Tets/images/'\n",
        "    Returns:   list of images, list of corresponding labels'''\n",
        "    images = [] # images\n",
        "    labels = [] # corresponding labels\n",
        "    with open('/content/GT-final_test.csv') as gtFile:# annotations file\n",
        "        gtReader = csv.reader(gtFile, delimiter=';') # csv parser for annotations file\n",
        "        next(gtReader) # skip header\n",
        "        # loop over all images in current annotations file\n",
        "        for row in gtReader:\n",
        "            images.append(plt.imread(rootpath + row[0])) # the 1th column is the filename\n",
        "            labels.append(row[7]) # the 8th column is the label\n",
        "    return images, labels\n"
      ],
      "execution_count": 0,
      "outputs": []
    },
    {
      "cell_type": "code",
      "metadata": {
        "id": "Fx3IoXS5PnOE",
        "colab_type": "code",
        "colab": {}
      },
      "source": [
        "tr_images , tr_labels = readTrafficSigns('./GTSRB/Training')\n",
        "ts_images , ts_labels = TSreadTrafficSigns('./GTSRB/Final_Test/Images/')\n",
        "\n",
        "# make all the images have size(30, 30)\n",
        "for i , img in enumerate(tr_images):\n",
        "    tr_images[i] = cv2.resize(img , (30,30))\n",
        "\n",
        "for i, img in enumerate(ts_images):\n",
        "    ts_images[i] = cv2.resize(img, (30,30))"
      ],
      "execution_count": 0,
      "outputs": []
    },
    {
      "cell_type": "code",
      "metadata": {
        "id": "1PXOV3-TPpRn",
        "colab_type": "code",
        "outputId": "88df72b6-b11a-4a69-d526-c7c8db0579c4",
        "colab": {
          "base_uri": "https://localhost:8080/",
          "height": 334
        }
      },
      "source": [
        "unique_elements, counts_elements = np.unique(sorted(tr_labels), return_counts = True)\n",
        "plt.figure(figsize=(10 , 5))\n",
        "plt.bar(unique_elements , counts_elements)\n",
        "plt.xlabel('Class')\n",
        "plt.ylabel('No of Training data')\n",
        "\n",
        "mx_count = max(counts_elements)"
      ],
      "execution_count": 0,
      "outputs": [
        {
          "output_type": "display_data",
          "data": {
            "image/png": "[encoded data removed]",
            "text/plain": [
              "<Figure size 720x360 with 1 Axes>"
            ]
          },
          "metadata": {
            "tags": [],
            "needs_background": "light"
          }
        }
      ]
    },
    {
      "cell_type": "code",
      "metadata": {
        "id": "X56CH01FPts7",
        "colab_type": "code",
        "colab": {}
      },
      "source": [
        "# standard data\n",
        "tr_images = np.array(tr_images,dtype=np.float32)/255.0\n",
        "ts_images = np.array(ts_images,dtype=np.float32)/255.0\n",
        "tr_labels = keras.utils.to_categorical(tr_labels)\n",
        "ts_labels = keras.utils.to_categorical(ts_labels)"
      ],
      "execution_count": 0,
      "outputs": []
    },
    {
      "cell_type": "code",
      "metadata": {
        "id": "aDaJMCoTPwjd",
        "colab_type": "code",
        "colab": {}
      },
      "source": [
        "n_classes = 43\n",
        "def create_model(activation_function):\n",
        "  model = Sequential()\n",
        "  model.add(Conv2D(32, kernel_size = (3, 3), activation = activation_function , input_shape = (30, 30, 3))) # 28x28x32\n",
        "  model.add(MaxPooling2D(pool_size = (2, 2))) # 14x14x32\n",
        "  model.add(BatchNormalization())\n",
        "\n",
        "  model.add(Conv2D(64, kernel_size = (3, 3), activation = activation_function)) # 12x12x64\n",
        "  model.add(MaxPooling2D(pool_size = (2, 2))) # 6x6x64\n",
        "  model.add(Dropout(0.5))\n",
        "  model.add(BatchNormalization())\n",
        "\n",
        "  model.add(Conv2D(128, kernel_size = (3, 3), activation = activation_function)) #4x4x128\n",
        "  model.add(MaxPooling2D(pool_size = (2, 2))) #2x2x128\n",
        "  model.add(Dropout(0.5))\n",
        "  model.add(Flatten())\n",
        "  model.add(BatchNormalization())\n",
        "\n",
        "  model.add(Dense(128, activation = activation_function))\n",
        "  model.add(Dropout(0.5))\n",
        "  model.add(Dense(n_classes, activation = 'softmax'))\n",
        "  return model"
      ],
      "execution_count": 0,
      "outputs": []
    },
    {
      "cell_type": "code",
      "metadata": {
        "id": "9YetJJiOQL4w",
        "colab_type": "code",
        "colab": {}
      },
      "source": [
        "model = create_model('relu')\n",
        "model.compile(loss='categorical_crossentropy', optimizer='adam', metrics=['accuracy'])"
      ],
      "execution_count": 0,
      "outputs": []
    },
    {
      "cell_type": "code",
      "metadata": {
        "id": "MAQYNGYkmMjn",
        "colab_type": "code",
        "outputId": "fdc1983b-55fe-43b2-9998-ba67883f7d86",
        "colab": {
          "base_uri": "https://localhost:8080/",
          "height": 729
        }
      },
      "source": [
        "learned_model = model.fit(tr_images, tr_labels, validation_data=(ts_images, ts_labels), batch_size=128, epochs = 20)"
      ],
      "execution_count": 89,
      "outputs": [
        {
          "output_type": "stream",
          "text": [
            "Train on 26640 samples, validate on 12630 samples\n",
            "Epoch 1/20\n",
            "26640/26640 [==============================] - 58s 2ms/step - loss: 3.0760 - accuracy: 0.2087 - val_loss: 4.0684 - val_accuracy: 0.0356\n",
            "Epoch 2/20\n",
            "26640/26640 [==============================] - 58s 2ms/step - loss: 1.6512 - accuracy: 0.4899 - val_loss: 4.4504 - val_accuracy: 0.1211\n",
            "Epoch 3/20\n",
            "26640/26640 [==============================] - 58s 2ms/step - loss: 1.0263 - accuracy: 0.6652 - val_loss: 1.2246 - val_accuracy: 0.6576\n",
            "Epoch 4/20\n",
            "26640/26640 [==============================] - 57s 2ms/step - loss: 0.7029 - accuracy: 0.7697 - val_loss: 0.4682 - val_accuracy: 0.8654\n",
            "Epoch 5/20\n",
            "26640/26640 [==============================] - 57s 2ms/step - loss: 0.5309 - accuracy: 0.8270 - val_loss: 0.3612 - val_accuracy: 0.8942\n",
            "Epoch 6/20\n",
            "26640/26640 [==============================] - 57s 2ms/step - loss: 0.4306 - accuracy: 0.8628 - val_loss: 0.2768 - val_accuracy: 0.9208\n",
            "Epoch 7/20\n",
            "26640/26640 [==============================] - 58s 2ms/step - loss: 0.3816 - accuracy: 0.8785 - val_loss: 0.2530 - val_accuracy: 0.9249\n",
            "Epoch 8/20\n",
            "26640/26640 [==============================] - 57s 2ms/step - loss: 0.3198 - accuracy: 0.8960 - val_loss: 0.2565 - val_accuracy: 0.9272\n",
            "Epoch 9/20\n",
            "26640/26640 [==============================] - 58s 2ms/step - loss: 0.2783 - accuracy: 0.9100 - val_loss: 0.2253 - val_accuracy: 0.9377\n",
            "Epoch 10/20\n",
            "26640/26640 [==============================] - 57s 2ms/step - loss: 0.2569 - accuracy: 0.9179 - val_loss: 0.2318 - val_accuracy: 0.9394\n",
            "Epoch 11/20\n",
            "26640/26640 [==============================] - 57s 2ms/step - loss: 0.2360 - accuracy: 0.9247 - val_loss: 0.1834 - val_accuracy: 0.9512\n",
            "Epoch 12/20\n",
            "26640/26640 [==============================] - 57s 2ms/step - loss: 0.2188 - accuracy: 0.9297 - val_loss: 0.2170 - val_accuracy: 0.9433\n",
            "Epoch 13/20\n",
            "26640/26640 [==============================] - 57s 2ms/step - loss: 0.2040 - accuracy: 0.9343 - val_loss: 0.2248 - val_accuracy: 0.9369\n",
            "Epoch 14/20\n",
            "26640/26640 [==============================] - 57s 2ms/step - loss: 0.2159 - accuracy: 0.9308 - val_loss: 0.1849 - val_accuracy: 0.9518\n",
            "Epoch 15/20\n",
            "26640/26640 [==============================] - 57s 2ms/step - loss: 0.1893 - accuracy: 0.9407 - val_loss: 0.1705 - val_accuracy: 0.9553\n",
            "Epoch 16/20\n",
            "26640/26640 [==============================] - 57s 2ms/step - loss: 0.1851 - accuracy: 0.9415 - val_loss: 0.1715 - val_accuracy: 0.9531\n",
            "Epoch 17/20\n",
            "26640/26640 [==============================] - 57s 2ms/step - loss: 0.1759 - accuracy: 0.9424 - val_loss: 0.1491 - val_accuracy: 0.9592\n",
            "Epoch 18/20\n",
            "26640/26640 [==============================] - 58s 2ms/step - loss: 0.1659 - accuracy: 0.9468 - val_loss: 0.1719 - val_accuracy: 0.9538\n",
            "Epoch 19/20\n",
            "26640/26640 [==============================] - 59s 2ms/step - loss: 0.1555 - accuracy: 0.9513 - val_loss: 0.1616 - val_accuracy: 0.9505\n",
            "Epoch 20/20\n",
            "26640/26640 [==============================] - 60s 2ms/step - loss: 0.2129 - accuracy: 0.9337 - val_loss: 0.1547 - val_accuracy: 0.9595\n"
          ],
          "name": "stdout"
        }
      ]
    },
    {
      "cell_type": "code",
      "metadata": {
        "id": "xJbNC-3pUxsH",
        "colab_type": "code",
        "colab": {}
      },
      "source": [
        "model.trainable = False\n",
        "model.compile(loss='categorical_crossentropy', optimizer='adam', metrics=['accuracy'])"
      ],
      "execution_count": 0,
      "outputs": []
    },
    {
      "cell_type": "code",
      "metadata": {
        "id": "D4GWMMC5LMJD",
        "colab_type": "code",
        "colab": {}
      },
      "source": [
        "def calculate_classes_mean(ts_labels, dataset, class_number):\n",
        "  # print(dataset)\n",
        "  labels = np.eye(n_classes)\n",
        "  # print(\"defined labels is: \", labels)\n",
        "  boolean_form = np.zeros((class_number, ts_labels.shape[0]), dtype=bool)\n",
        "  # print(boolean_form)\n",
        "  for i in range(len(labels)):\n",
        "      difference = np.linalg.norm(ts_labels - labels[i], axis=1)\n",
        "      # if difference == 0:\n",
        "      boolean_form[i] = (difference == 0)\n",
        "  # print(boolean_form)\n",
        "  # for i in range(len(boolean_form)):\n",
        "  #   if boolean_form == True:\n",
        "  #     print(i)\n",
        "\n",
        "  classes_mean = np.zeros((class_number, dataset.shape[1]))\n",
        "  for i in range(class_number):\n",
        "        classes_mean[i] = np.mean(dataset[boolean_form[i]], axis=0)\n",
        "  # print(classes_mean)\n",
        "  return classes_mean\n"
      ],
      "execution_count": 0,
      "outputs": []
    },
    {
      "cell_type": "code",
      "metadata": {
        "id": "vhe6kJicYOl2",
        "colab_type": "code",
        "colab": {}
      },
      "source": [
        "def calculate_single_seperated_index(layer, ts_labels, class_number):\n",
        "    one_deminsion = tf.reshape(layer, (layer.shape[0], -1))\n",
        "    # calculate classes mean\n",
        "    classes_mean = calculate_classes_mean(ts_labels, one_deminsion, class_number)\n",
        "    counter = 0\n",
        "    for i in range(layer.shape[0]):\n",
        "        j = keras.backend.eval(tf.math.argmin(tf.norm(classes_mean - one_deminsion[i] , axis=1)))\n",
        "        if ts_labels[i][j] == 1:\n",
        "            counter += 1\n",
        "    seperated_index = counter / layer.shape[0]\n",
        "    return seperated_index"
      ],
      "execution_count": 0,
      "outputs": []
    },
    {
      "cell_type": "code",
      "metadata": {
        "id": "Wo0B6JRAYUy0",
        "colab_type": "code",
        "colab": {}
      },
      "source": [
        "def make_seperated_index(ts_images, ts_labels, model):\n",
        "  seperated_indexes = []\n",
        "  tf_image_form = tf.convert_to_tensor(ts_images)\n",
        "  for i in range(len(model.layers)):\n",
        "    if i == 0:\n",
        "      seperated_indexes.append(calculate_single_seperated_index(keras.backend.eval(tf_image_form), ts_labels, 43))\n",
        "    print(\"new layer\")\n",
        "    tf_image_form = model.layers[i](tf_image_form)\n",
        "    seperated_indexes.append(calculate_single_seperated_index(keras.backend.eval(tf_image_form), ts_labels, 43))\n",
        "    print(\"for layer \", i, \"seperated index is \", seperated_indexes[i])\n",
        "  return seperated_indexes"
      ],
      "execution_count": 0,
      "outputs": []
    },
    {
      "cell_type": "code",
      "metadata": {
        "id": "LjoHTnSVYXyN",
        "colab_type": "code",
        "outputId": "4121448c-4f82-43a3-e414-94b2a5c138f1",
        "colab": {
          "base_uri": "https://localhost:8080/",
          "height": 538
        }
      },
      "source": [
        "seperated_indexes = make_seperated_index(ts_images, ts_labels, model)"
      ],
      "execution_count": 131,
      "outputs": [
        {
          "output_type": "stream",
          "text": [
            "new layer\n",
            "for layer  0 seperated index is  0.22399049881235156\n",
            "new layer\n",
            "for layer  1 seperated index is  0.331353919239905\n",
            "new layer\n",
            "for layer  2 seperated index is  0.3418844022169438\n",
            "new layer\n",
            "for layer  3 seperated index is  0.5185273159144893\n",
            "new layer\n",
            "for layer  4 seperated index is  0.766270783847981\n",
            "new layer\n",
            "for layer  5 seperated index is  0.7814726840855107\n",
            "new layer\n",
            "for layer  6 seperated index is  0.7814726840855107\n",
            "new layer\n",
            "for layer  7 seperated index is  0.8346001583531275\n",
            "new layer\n",
            "for layer  8 seperated index is  0.8749802058590657\n",
            "new layer\n",
            "for layer  9 seperated index is  0.8850356294536817\n",
            "new layer\n",
            "for layer  10 seperated index is  0.8850356294536817\n",
            "new layer\n",
            "for layer  11 seperated index is  0.8850356294536817\n",
            "new layer\n",
            "for layer  12 seperated index is  0.8841646872525732\n",
            "new layer\n",
            "for layer  13 seperated index is  0.8830562153602534\n",
            "new layer\n",
            "for layer  14 seperated index is  0.8830562153602534\n"
          ],
          "name": "stdout"
        }
      ]
    },
    {
      "cell_type": "code",
      "metadata": {
        "id": "FRzwi2jcJIbk",
        "colab_type": "code",
        "colab": {
          "base_uri": "https://localhost:8080/",
          "height": 312
        },
        "outputId": "e01ee648-7387-495e-edcc-a587b8e6da71"
      },
      "source": [
        "plt.plot(range(0, 16) , seperated_indexes)\n",
        "plt.title('model of seperated index')\n",
        "plt.legend(['seperated index'])\n",
        "plt.xlabel('layer')\n",
        "plt.ylabel('seperated index')\n"
      ],
      "execution_count": 133,
      "outputs": [
        {
          "output_type": "execute_result",
          "data": {
            "text/plain": [
              "Text(0, 0.5, 'seperated index')"
            ]
          },
          "metadata": {
            "tags": []
          },
          "execution_count": 133
        },
        {
          "output_type": "display_data",
          "data": {
            "image/png": "[encoded data removed]",
            "text/plain": [
              "<Figure size 432x288 with 1 Axes>"
            ]
          },
          "metadata": {
            "tags": [],
            "needs_background": "light"
          }
        }
      ]
    }
  ]
}